{
 "cells": [
  {
   "cell_type": "code",
   "execution_count": 1,
   "metadata": {},
   "outputs": [],
   "source": [
    "from collections import Counter\n",
    "import itertools\n",
    "import logging\n",
    "\n",
    "import einops\n",
    "import matplotlib.pyplot as plt\n",
    "import numpy as np\n",
    "import torch\n",
    "import torch.nn.functional as F\n",
    "from matplotlib import colors\n",
    "from unseal.hooks import Hook, HookedModel\n",
    "from unseal.hooks.common_hooks import save_output\n",
    "\n",
    "from datasets import get_dataset\n",
    "from model import GrokkingTransformer\n",
    "from utils import load_model\n",
    "\n",
    "device = 'cuda' if torch.cuda.is_available() else 'cpu'\n",
    "\n",
    "if device == 'cpu':\n",
    "    logging.warning('No GPU found! Using CPU')"
   ]
  },
  {
   "cell_type": "code",
   "execution_count": 2,
   "metadata": {},
   "outputs": [],
   "source": [
    "model_name = 'Single Layer ReLU'\n",
    "ckpt, ckpt_dir = load_model(model_name)\n",
    "\n",
    "model = GrokkingTransformer.load_from_checkpoint(ckpt).to(device)\n",
    "model.eval()\n",
    "\n",
    "key_layer = model.transformer[0].linear_net[0].weight\n",
    "value_layer = model.transformer[0].linear_net[-1].weight"
   ]
  },
  {
   "cell_type": "code",
   "execution_count": 3,
   "metadata": {},
   "outputs": [
    {
     "name": "stdout",
     "output_type": "stream",
     "text": [
      "angle(219,268) = 44.266 deg\n",
      "angle(219,446) = 33.445 deg\n",
      "angle(268,446) = 72.878 deg\n"
     ]
    }
   ],
   "source": [
    "values = {219: value_layer[:, 219], 268: value_layer[:, 268], 446: value_layer[:, 446]}\n",
    "\n",
    "for key1, key2 in itertools.combinations(values.keys(), r=2):\n",
    "    print(f'angle({key1},{key2}) = {180/torch.pi * torch.arccos((values[key1] * values[key2]).sum() / values[key1].pow(2).sum().sqrt() / values[key2].pow(2).sum().sqrt()):.3f} deg')"
   ]
  },
  {
   "cell_type": "code",
   "execution_count": 4,
   "metadata": {},
   "outputs": [],
   "source": [
    "# What's the distribution over key magnitudes for these three value vectors, over the whole dataset?\n",
    "# Which inputs activate them the most?\n",
    "dataset = torch.from_numpy(get_dataset(descr='minus', num_elements=97, data_dir='./data').data).to(device)"
   ]
  },
  {
   "cell_type": "code",
   "execution_count": 5,
   "metadata": {},
   "outputs": [
    {
     "name": "stdout",
     "output_type": "stream",
     "text": [
      "\n"
     ]
    }
   ],
   "source": [
    "hooked_model = HookedModel(model)\n",
    "hook = Hook(\"transformer->0->linear_net->2\", save_output, key=\"save_key_magnitude\")\n",
    "hooked_model(dataset, hooks=[hook])\n",
    "print('')"
   ]
  },
  {
   "cell_type": "code",
   "execution_count": 6,
   "metadata": {},
   "outputs": [
    {
     "name": "stdout",
     "output_type": "stream",
     "text": [
      "torch.Size([9409, 3])\n"
     ]
    }
   ],
   "source": [
    "key_magnitude = hooked_model.save_ctx['save_key_magnitude']['output'][:,-1,[219,268,446]]\n",
    "print(key_magnitude.shape)"
   ]
  },
  {
   "cell_type": "code",
   "execution_count": 7,
   "metadata": {},
   "outputs": [
    {
     "data": {
      "image/png": "[encoded data removed]",
      "text/plain": [
       "<Figure size 432x288 with 3 Axes>"
      ]
     },
     "metadata": {
      "needs_background": "light"
     },
     "output_type": "display_data"
    }
   ],
   "source": [
    "fig, axes = plt.subplots(3, 1, sharex=True, sharey=True, gridspec_kw={'hspace': 0.5})\n",
    "for i in range(3):\n",
    "    axes[i].hist(key_magnitude[:,i].detach().numpy(), bins=100)\n",
    "    axes[i].set_title(f\"{[219,268,446][i]}\")\n",
    "plt.xlim(0.000, 0.041)\n",
    "plt.ylim(0,200)\n",
    "plt.suptitle(f\"Key Magnitude Histograms\")\n",
    "plt.show()"
   ]
  },
  {
   "cell_type": "code",
   "execution_count": 8,
   "metadata": {},
   "outputs": [
    {
     "data": {
      "image/png": "[encoded data removed]",
      "text/plain": [
       "<Figure size 432x288 with 1 Axes>"
      ]
     },
     "metadata": {
      "needs_background": "light"
     },
     "output_type": "display_data"
    }
   ],
   "source": [
    "# look at the histogram for 446 individually\n",
    "plt.figure()\n",
    "plt.hist(key_magnitude[:,2].detach().numpy(), bins=100)\n",
    "plt.ylim(0,30)\n",
    "plt.title('Key Magnitude Histogram 446')\n",
    "plt.show()"
   ]
  },
  {
   "cell_type": "code",
   "execution_count": 9,
   "metadata": {},
   "outputs": [
    {
     "data": {
      "image/png": "[encoded data removed]",
      "text/plain": [
       "<Figure size 432x288 with 3 Axes>"
      ]
     },
     "metadata": {
      "needs_background": "light"
     },
     "output_type": "display_data"
    }
   ],
   "source": [
    "# get the data points to the largest 100 magnitudes\n",
    "\n",
    "\n",
    "fig, axes = plt.subplots(3, 1, sharex=True, sharey=True, gridspec_kw={'hspace': 0.5})\n",
    "for i, key in enumerate([219,268,446]):\n",
    "    axes[i].hist(dataset[key_magnitude[:,i] != 0][:,-1].cpu().numpy(), bins=97)\n",
    "    axes[i].set_title(f\"{key}\")\n",
    "plt.suptitle('Correct token hist non-zero key activations')\n",
    "plt.show()"
   ]
  },
  {
   "cell_type": "code",
   "execution_count": 10,
   "metadata": {},
   "outputs": [
    {
     "name": "stdout",
     "output_type": "stream",
     "text": [
      "Correct Token    Count\n",
      "          62          2\n",
      "          20          2\n",
      "           7          4\n",
      "          96         19\n",
      "          76         24\n",
      "          40         27\n",
      "          61         34\n",
      "          22         41\n",
      "           1         45\n",
      "          43         56\n",
      "          91         66\n",
      "          80         97\n",
      "          25         97\n",
      "           4         97\n"
     ]
    }
   ],
   "source": [
    "counts = list(Counter(dataset[key_magnitude[:,2] != 0][:,-1].cpu().numpy()).items())\n",
    "counts = sorted(counts, key=lambda x: x[1])\n",
    "print(f'Correct Token    Count')\n",
    "for tup in counts:\n",
    "    print(f'{tup[0]:12d} {tup[1]:10d}')"
   ]
  },
  {
   "cell_type": "code",
   "execution_count": 11,
   "metadata": {},
   "outputs": [
    {
     "name": "stdout",
     "output_type": "stream",
     "text": [
      "76\n",
      "40\n",
      "61\n",
      "22\n",
      "1\n",
      "43\n"
     ]
    }
   ],
   "source": [
    "orbit = [(80+21*i) % 97 for i in range(97)][:20]\n",
    "for c in counts:\n",
    "    if c[0] not in orbit:\n",
    "        print(c[0])"
   ]
  },
  {
   "cell_type": "code",
   "execution_count": 13,
   "metadata": {},
   "outputs": [
    {
     "name": "stdout",
     "output_type": "stream",
     "text": [
      "[80, 4, 25, 46, 67, 88, 12, 33, 54, 75, 96, 20, 41, 62, 83, 7, 28, 49, 70, 91, 15, 36, 57, 78, 2, 23, 44, 65, 86, 10, 31, 52, 73, 94, 18, 39, 60, 81, 5, 26, 47, 68, 89, 13, 34, 55, 76, 0, 21, 42, 63, 84, 8, 29, 50, 71, 92, 16, 37, 58, 79, 3, 24, 45, 66, 87, 11, 32, 53, 74, 95, 19, 40, 61, 82, 6, 27, 48, 69, 90, 14, 35, 56, 77, 1, 22, 43, 64, 85, 9, 30, 51, 72, 93, 17, 38, 59]\n"
     ]
    }
   ],
   "source": [
    "print([(80+i*21)%97 for i in range(97)])"
   ]
  },
  {
   "cell_type": "markdown",
   "metadata": {},
   "source": []
  },
  {
   "cell_type": "markdown",
   "metadata": {},
   "source": []
  }
 ],
 "metadata": {
  "interpreter": {
   "hash": "fb1fdf4e89bcb5cd608cbf40c4d6eb56c2daee80e30c502c945d5cc7956d8970"
  },
  "kernelspec": {
   "display_name": "Python 3.9.6 ('main')",
   "language": "python",
   "name": "python3"
  },
  "language_info": {
   "codemirror_mode": {
    "name": "ipython",
    "version": 3
   },
   "file_extension": ".py",
   "mimetype": "text/x-python",
   "name": "python",
   "nbconvert_exporter": "python",
   "pygments_lexer": "ipython3",
   "version": "3.9.6"
  },
  "orig_nbformat": 4
 },
 "nbformat": 4,
 "nbformat_minor": 2
}
